{
 "cells": [
  {
   "cell_type": "code",
   "execution_count": 2,
   "metadata": {},
   "outputs": [
    {
     "name": "stdout",
     "output_type": "stream",
     "text": [
      "Connected\n",
      "<Graph uri='http://neo4j.lis.ic.unicamp.br:80/db/data/'>\n"
     ]
    },
    {
     "data": {
      "text/html": [
       "\n",
       "        <iframe\n",
       "            width=\"100%\"\n",
       "            height=\"400\"\n",
       "            src=\"resources/temp/figure/graph-c97e9c09-7208-4905-b7c9-b29df9045ec9.html\"\n",
       "            frameborder=\"0\"\n",
       "            allowfullscreen\n",
       "        ></iframe>\n",
       "        "
      ],
      "text/plain": [
       "<IPython.lib.display.IFrame at 0x7f103a141be0>"
      ]
     },
     "execution_count": 2,
     "metadata": {},
     "output_type": "execute_result"
    }
   ],
   "source": [
    "from py2neo import Graph\n",
    "\n",
    "### My parameters\n",
    "#graph = Graph(\"http://neo4j.lis.ic.unicamp.br:80/db/data/\", )\n",
    "graph = Graph(host = \"neo4j.lis.ic.unicamp.br\", http_port = 80, bolt = False, secure = False)\n",
    "\n",
    "\n",
    "if(graph):\n",
    "    print (\"Connected\")\n",
    "    print (graph)\n",
    "\n",
    "graph.begin(autocommit = True)\n",
    "\n",
    "from resources.scripts.vis import draw\n",
    "\n",
    "options = {}\n",
    "draw(graph, options,  physics=True)\n",
    "\n"
   ]
  },
  {
   "cell_type": "code",
   "execution_count": null,
   "metadata": {},
   "outputs": [],
   "source": []
  },
  {
   "cell_type": "code",
   "execution_count": null,
   "metadata": {},
   "outputs": [],
   "source": []
  },
  {
   "cell_type": "code",
   "execution_count": null,
   "metadata": {},
   "outputs": [],
   "source": []
  }
 ],
 "metadata": {
  "kernelspec": {
   "display_name": "Python 3",
   "language": "python",
   "name": "python3"
  },
  "language_info": {
   "codemirror_mode": {
    "name": "ipython",
    "version": 3
   },
   "file_extension": ".py",
   "mimetype": "text/x-python",
   "name": "python",
   "nbconvert_exporter": "python",
   "pygments_lexer": "ipython3",
   "version": "3.5.2"
  }
 },
 "nbformat": 4,
 "nbformat_minor": 2
}
