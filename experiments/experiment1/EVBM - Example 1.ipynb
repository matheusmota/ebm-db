{
 "cells": [
  {
   "cell_type": "markdown",
   "metadata": {},
   "source": [
    "# Example 1\n"
   ]
  },
  {
   "cell_type": "code",
   "execution_count": 1,
   "metadata": {
    "collapsed": true
   },
   "outputs": [],
   "source": [
    "# from tabula import read_pdf\n",
    "\n",
    "\n",
    "# import sys\n",
    "# b = sys.path\n",
    "# b\n",
    "# #sys.path = ['/opt/java/jre1.7.0_79/bin'] + b\n",
    "\n",
    "\n",
    "# df = read_pdf(\"/home/matheus//phd/resources/data/pdfs/pdf2.pdf\", pages=1, nospreadsheet=True)\n",
    "# df "
   ]
  },
  {
   "cell_type": "code",
   "execution_count": 1,
   "metadata": {},
   "outputs": [
    {
     "name": "stdout",
     "output_type": "stream",
     "text": [
      "Connected\n",
      "<Graph uri='http://neo4j.lis.ic.unicamp.br:80/db/data/'>\n"
     ]
    }
   ],
   "source": [
    "from py2neo import Graph\n",
    "\n",
    "### Using default parameters -- localhost:7474 no login/passwd required\n",
    "#graph = Graph()\n",
    "\n",
    "### Using url only (the notation \"http://<host>:<port>\" is mandatory)\n",
    "#graph = Graph(\"http://localhost:7474/db/data/\")\n",
    "#graph = Graph(\"http://neo4j.lis.ic.unicamp.br:80/db/data/\")\n",
    "\n",
    "### http \n",
    "#graph = Graph(host =\"localhost\", http_port = 7474)\n",
    "#graph = Graph(\"http://neo4j.lis.ic.unicamp.br:80/db/data/\")\n",
    "\n",
    "### https\n",
    "#graph = Graph(host =\"localhost\", http_port = 7473)\n",
    "#graph = Graph(\"http://neo4j.lis.ic.unicamp.br:443/db/data/\")\n",
    "\n",
    "### authentication \n",
    "#graph = Graph(host = \"localhost\", http_port = 7474, user=\"neo4j\", password=\"123\")\n",
    "\n",
    "### For neo4j's new Bolt binary protocol (available in Neo4j 3.0+) see the documentation link \n",
    "\n",
    "### My parameters\n",
    "#graph = Graph(\"http://neo4j.lis.ic.unicamp.br:80/db/data/\", )\n",
    "graph = Graph(host = \"neo4j.lis.ic.unicamp.br\", http_port = 80, bolt = False,  secure = False)\n",
    "\n",
    "\n",
    "if(graph):\n",
    "    print (\"Connected\")\n",
    "    print (graph)\n",
    "\n",
    "graph.begin(autocommit=True)\n",
    "graph.delete_all()"
   ]
  },
  {
   "cell_type": "code",
   "execution_count": 2,
   "metadata": {},
   "outputs": [
    {
     "data": {
      "text/html": [
       "\n",
       "        <iframe\n",
       "            width=\"100%\"\n",
       "            height=\"400\"\n",
       "            src=\"resources/temp/figure/graph-3a55ddde-e716-4e50-83b0-9ff2a88eb90c.html\"\n",
       "            frameborder=\"0\"\n",
       "            allowfullscreen\n",
       "        ></iframe>\n",
       "        "
      ],
      "text/plain": [
       "<IPython.lib.display.IFrame at 0x7f2ef0174630>"
      ]
     },
     "execution_count": 2,
     "metadata": {},
     "output_type": "execute_result"
    }
   ],
   "source": [
    "from py2neo import Node, Relationship\n",
    "\n",
    "graph.delete_all()\n",
    "\n",
    "publication1= Node(\"Publication\", title=\"Does This Patient Have Influenza?\", authors=\"Barnet Eskin, MD, Ph; Robert Levy, MD\", doi=\"doi.org/10.1016/j.annemergmed.2006.08.016\")\n",
    "graph.create(publication1)\n",
    "\n",
    "disease1= Node(\"Disease\", commonName=\"Influenza\", uri=\"http://example/h2381n\")\n",
    "graph.create(disease1)\n",
    "\n",
    "graph.create(Relationship(publication1, \"has_subject\", disease1))\n",
    "\n",
    "\n",
    "\n",
    "cenario1 = Node(\"Cenario\", title=\"Cenario #9832\")\n",
    "graph.create(cenario1)\n",
    "\n",
    "finding1= Node(\"Finding\", title=\"Feverishness\")\n",
    "finding2= Node(\"Finding\", title=\"age >= 60\")\n",
    "graph.create(finding1 | finding2)\n",
    "\n",
    "lr1= Node(\"LR\", title=\"LR+ 2.1 (1.2–3.7)\")\n",
    "lr2= Node(\"LR\", title=\"LR- NS\")\n",
    "graph.create(lr1 | lr2)\n",
    "\n",
    "graph.create(Relationship(publication1, \"has_result\", cenario1))\n",
    "\n",
    "graph.create(Relationship(cenario1, \"presence\", finding1))\n",
    "graph.create(Relationship(cenario1, \"presence\", finding2))\n",
    "\n",
    "graph.create(Relationship(cenario1, \"observed_result\", lr1))\n",
    "graph.create(Relationship(cenario1, \"observed_result\", lr2))\n",
    "\n",
    "cenario2 = Node(\"Cenario\", title=\"Cenario #1434112\")\n",
    "graph.create(Relationship(publication1, \"has_result\", cenario2))\n",
    "\n",
    "lr3= Node(\"LR\", title=\"LR+ 5.4 (3.8–7.7)\")\n",
    "lr4= Node(\"LR\", title=\"LR- 0.8 (0.7–0.9)\")\n",
    "graph.create(lr3 | lr4)\n",
    "\n",
    "finding3 = Node(\"Finding\", title=\"Fever\")\n",
    "finding4 = Node(\"Finding\", title=\"Cough\")\n",
    "finding5 = Node(\"Finding\", title=\"Acute onset\")\n",
    "\n",
    "graph.create(finding3|finding4|finding5)\n",
    "\n",
    "graph.create(Relationship(cenario2, \"presence\", finding2))\n",
    "graph.create(Relationship(cenario2, \"presence\", finding1))\n",
    "graph.create(Relationship(cenario2, \"presence\", finding4))\n",
    "graph.create(Relationship(cenario2, \"presence\", finding5))\n",
    "\n",
    "\n",
    "graph.create(Relationship(cenario2, \"observed_result\", lr3))\n",
    "graph.create(Relationship(cenario2, \"observed_result\", lr4))\n",
    "\n",
    "\n",
    "from resources.scripts.vis import draw\n",
    "\n",
    "options = {\"Disease\": \"commonName\", \"Publication\": \"doi\", \"Cenario\": \"title\", \"Finding\": \"title\", \"LR\": \"title\"}\n",
    "draw(graph, options,  physics=True)\n"
   ]
  },
  {
   "cell_type": "code",
   "execution_count": 3,
   "metadata": {},
   "outputs": [
    {
     "data": {
      "text/html": [
       "\n",
       "        <iframe\n",
       "            width=\"100%\"\n",
       "            height=\"400\"\n",
       "            src=\"resources/temp/figure/graph-cbce3e7e-4ac2-4602-a0f3-7f8dbc3f6453.html\"\n",
       "            frameborder=\"0\"\n",
       "            allowfullscreen\n",
       "        ></iframe>\n",
       "        "
      ],
      "text/plain": [
       "<IPython.lib.display.IFrame at 0x7f2ef0157a58>"
      ]
     },
     "execution_count": 3,
     "metadata": {},
     "output_type": "execute_result"
    }
   ],
   "source": [
    "from py2neo import Node, Relationship\n",
    "\n",
    "graph.delete_all()\n",
    "\n",
    "publication1= Node(\"Publication\", title=\"Does This Patient Have Influenza?\", authors=\"Barnet Eskin, MD, Ph; Robert Levy, MD\", doi=\"doi.org/10.1016/j.annemergmed.2006.08.016\")\n",
    "graph.create(publication1)\n",
    "\n",
    "disease1= Node(\"Disease\", commonName=\"Influenza\", uri=\"http://example/h2381n\")\n",
    "graph.create(disease1)\n",
    "\n",
    "graph.create(Relationship(publication1, \"has_subject\", disease1))\n",
    "\n",
    "\n",
    "finding1= Node(\"Finding\", title=\"Feverishness\")\n",
    "finding2= Node(\"Finding\", title=\"age >= 60\")\n",
    "graph.create(finding1 | finding2)\n",
    "\n",
    "\n",
    "graph.create(Relationship(disease1, \"[LR+: 2.1 (1.2–3.7)] [LR-: NS]\", finding1))\n",
    "graph.create(Relationship(disease1, \"presence\", finding2))\n",
    "\n",
    "\n",
    "\n",
    "# cenario2 = Node(\"Cenario\", title=\"Cenario #1434112\")\n",
    "# graph.create(Relationship(publication1, \"has_result\", cenario2))\n",
    "\n",
    "# lr3= Node(\"LR\", title=\"LR+ 5.4 (3.8–7.7)\")\n",
    "# lr4= Node(\"LR\", title=\"LR- 0.8 (0.7–0.9)\")\n",
    "# graph.create(lr3 | lr4)\n",
    "\n",
    "# finding3 = Node(\"Finding\", title=\"Fever\")\n",
    "# finding4 = Node(\"Finding\", title=\"Cough\")\n",
    "# finding5 = Node(\"Finding\", title=\"Acute onset\")\n",
    "\n",
    "# graph.create(finding3|finding4|finding5)\n",
    "\n",
    "# graph.create(Relationship(cenario2, \"presence\", finding2))\n",
    "# graph.create(Relationship(cenario2, \"presence\", finding1))\n",
    "# graph.create(Relationship(cenario2, \"presence\", finding4))\n",
    "# graph.create(Relationship(cenario2, \"presence\", finding5))\n",
    "\n",
    "\n",
    "# graph.create(Relationship(cenario2, \"observed_result\", lr3))\n",
    "# graph.create(Relationship(cenario2, \"observed_result\", lr4))\n",
    "\n",
    "\n",
    "from resources.scripts.vis import draw\n",
    "\n",
    "options = {\"Disease\": \"commonName\", \"Publication\": \"doi\", \"Cenario\": \"title\", \"Finding\": \"title\", \"LR\": \"title\"}\n",
    "draw(graph, options,  physics=False)\n"
   ]
  },
  {
   "cell_type": "code",
   "execution_count": 14,
   "metadata": {},
   "outputs": [
    {
     "data": {
      "text/html": [
       "\n",
       "        <iframe\n",
       "            width=\"100%\"\n",
       "            height=\"400\"\n",
       "            src=\"resources/temp/figure/graph-f883d15c-15df-4fa4-b2f6-a73f4288c89d.html\"\n",
       "            frameborder=\"0\"\n",
       "            allowfullscreen\n",
       "        ></iframe>\n",
       "        "
      ],
      "text/plain": [
       "<IPython.lib.display.IFrame at 0x7ff6c5d1acc0>"
      ]
     },
     "execution_count": 14,
     "metadata": {},
     "output_type": "execute_result"
    }
   ],
   "source": [
    "from py2neo import Node, Relationship\n",
    "from resources.scripts.vis import draw\n",
    "\n",
    "graph.delete_all()\n",
    "\n",
    "finding = Node(\"example0\", title=\"Finding\")\n",
    "graph.create(finding)\n",
    "\n",
    "medicalFinding = Node(\"example1\", title=\"Medical             Finding\")\n",
    "graph.create(medicalFinding)\n",
    "\n",
    "symptom = Node(\"example2\", title=\"Symptom\")\n",
    "graph.create(symptom)\n",
    "\n",
    "sign = Node(\"example3\", title=\"Sign\")\n",
    "graph.create(sign)\n",
    "\n",
    "char = Node(\"example4\", title=\"Characteristic\")\n",
    "graph.create(char)\n",
    "\n",
    "graph.create(Relationship(medicalFinding, \"is a\", finding))\n",
    "graph.create(Relationship(symptom, \"is a\", medicalFinding))\n",
    "graph.create(Relationship(sign, \"is a\", medicalFinding))\n",
    "graph.create(Relationship(char, \"is a\", finding))\n",
    "\n",
    "\n",
    "options = {\"example0\": \"title\",\"example1\": \"title\",\"example2\": \"title\",\"example3\": \"title\",\"example4\": \"title\",\"example5\": \"title\"}\n",
    "draw(graph, options,  physics=False)"
   ]
  },
  {
   "cell_type": "code",
   "execution_count": null,
   "metadata": {
    "collapsed": true
   },
   "outputs": [],
   "source": []
  },
  {
   "cell_type": "code",
   "execution_count": null,
   "metadata": {},
   "outputs": [],
   "source": []
  },
  {
   "cell_type": "code",
   "execution_count": null,
   "metadata": {
    "collapsed": true
   },
   "outputs": [],
   "source": [
    "from py2neo import Node, Relationship\n",
    "from resources.scripts.vis import draw\n",
    "\n",
    "graph.delete_all()\n",
    "\n",
    "package = Node(\"example0\", title=\"Portia Package\")\n",
    "graph.create(package)\n",
    "\n",
    "config = Node(\"example1\", title=\"Portia Config\")\n",
    "graph.create(config)\n",
    "\n",
    "\n",
    "dimension = Node(\"example2\", title=\"Portia Dimension\")\n",
    "graph.create(dimension)\n",
    "\n",
    "event = Node(\"example3\", title=\"Portia Event\")\n",
    "graph.create(event)\n",
    "\n",
    "\n",
    "track = Node(\"example3\", title=\"Portia Track\")\n",
    "graph.create(track)\n",
    "\n",
    "notification = Node(\"example3\", title=\"Portia Notification\")\n",
    "graph.create(notification)\n",
    "\n",
    "\n",
    "graph.create(Relationship(config, \" \", package))\n",
    "graph.create(Relationship(event, \" \", package))\n",
    "graph.create(Relationship(dimension, \" \", package))\n",
    "\n",
    "graph.create(Relationship(track, \" \", event))\n",
    "graph.create(Relationship(notification, \" \", event))\n",
    "\n",
    "\n",
    "\n",
    "options = {\"example0\": \"title\",\"example1\": \"title\",\"example2\": \"title\",\"example3\": \"title\",\"example4\": \"title\",\"example5\": \"title\"}\n",
    "draw(graph, options,  physics=False)"
   ]
  },
  {
   "cell_type": "code",
   "execution_count": null,
   "metadata": {
    "collapsed": true
   },
   "outputs": [],
   "source": []
  }
 ],
 "metadata": {
  "kernelspec": {
   "display_name": "Python 3",
   "language": "python",
   "name": "python3"
  },
  "language_info": {
   "codemirror_mode": {
    "name": "ipython",
    "version": 3
   },
   "file_extension": ".py",
   "mimetype": "text/x-python",
   "name": "python",
   "nbconvert_exporter": "python",
   "pygments_lexer": "ipython3",
   "version": "3.5.2"
  }
 },
 "nbformat": 4,
 "nbformat_minor": 2
}
